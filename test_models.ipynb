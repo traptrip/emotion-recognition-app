{
 "cells": [
  {
   "cell_type": "code",
   "execution_count": 6,
   "metadata": {},
   "outputs": [],
   "source": [
    "import yaml\n",
    "import cv2\n",
    "from pathlib import Path\n",
    "from omegaconf import DictConfig\n",
    "from tqdm import tqdm\n",
    "from application.src.recognizer import EmotionRecognizer\n",
    "\n",
    "from sklearn.metrics import classification_report"
   ]
  },
  {
   "cell_type": "code",
   "execution_count": 7,
   "metadata": {},
   "outputs": [],
   "source": [
    "PROJECT_DIR = Path(\"/home/and/projects/OWN/emotion-recognition-app\")\n",
    "CONFIG_PATH = PROJECT_DIR / \".conf/app_config.yaml\"\n",
    "with open(CONFIG_PATH, \"r\") as f:\n",
    "    CONFIG = DictConfig(yaml.safe_load(f))\n",
    "\n",
    "# CONFIG.recognition.image_classifier.weights = \"logs/cv_train_logs/cv_resnet18_full_128/weights/best.torchscript.pt\"\n",
    "# CONFIG.recognition.image_classifier.image_size = [64, 64]\n",
    "\n",
    "\n",
    "id2label = CONFIG.recognition.id2label\n",
    "label2id = {e: i for i, e in dict(id2label).items()}\n",
    "recognizer = EmotionRecognizer(CONFIG)"
   ]
  },
  {
   "cell_type": "code",
   "execution_count": 8,
   "metadata": {},
   "outputs": [
    {
     "name": "stderr",
     "output_type": "stream",
     "text": [
      "100%|██████████| 5929/5929 [00:20<00:00, 290.21it/s]\n"
     ]
    }
   ],
   "source": [
    "data_path = PROJECT_DIR / \"data/emotions_cv/val\"\n",
    "y_true = []\n",
    "y_pred = []\n",
    "for img_p in tqdm(list(data_path.rglob(\"*.png\"))):\n",
    "    img = cv2.cvtColor(cv2.imread(str(img_p)), cv2.COLOR_BGR2RGB)\n",
    "    prediction_probas = recognizer.emotion_image_classifier.predict([img])\n",
    "    pred = prediction_probas[0].argmax().item()\n",
    "    \n",
    "    y_true.append(label2id[img_p.parent.name])\n",
    "    y_pred.append(pred)\n"
   ]
  },
  {
   "cell_type": "code",
   "execution_count": 9,
   "metadata": {},
   "outputs": [
    {
     "name": "stdout",
     "output_type": "stream",
     "text": [
      "              precision    recall  f1-score   support\n",
      "\n",
      "       angry       0.58      0.55      0.57       777\n",
      "     disgust       0.84      0.72      0.78       111\n",
      "        fear       0.55      0.46      0.50       846\n",
      "       happy       0.81      0.88      0.84      1513\n",
      "         sad       0.51      0.57      0.54      1006\n",
      "    surprise       0.79      0.78      0.79       690\n",
      "     neutral       0.58      0.56      0.57       986\n",
      "\n",
      "    accuracy                           0.66      5929\n",
      "   macro avg       0.67      0.65      0.65      5929\n",
      "weighted avg       0.65      0.66      0.65      5929\n",
      "\n"
     ]
    }
   ],
   "source": [
    "print(classification_report(y_true, y_pred, target_names=list(id2label.values())))"
   ]
  },
  {
   "cell_type": "code",
   "execution_count": 4,
   "metadata": {},
   "outputs": [
    {
     "name": "stdout",
     "output_type": "stream",
     "text": [
      "              precision    recall  f1-score   support\n",
      "\n",
      "       angry       0.55      0.65      0.60       777\n",
      "     disgust       0.91      0.76      0.83       111\n",
      "        fear       0.65      0.49      0.56       846\n",
      "       happy       0.87      0.87      0.87      1513\n",
      "         sad       0.54      0.62      0.58      1006\n",
      "    surprise       0.87      0.79      0.83       690\n",
      "     neutral       0.64      0.63      0.64       986\n",
      "\n",
      "    accuracy                           0.69      5929\n",
      "   macro avg       0.72      0.69      0.70      5929\n",
      "weighted avg       0.70      0.69      0.70      5929\n",
      "\n"
     ]
    }
   ],
   "source": [
    "# resnet18 full 128\n",
    "print(classification_report(y_true, y_pred, target_names=list(id2label.values())))"
   ]
  },
  {
   "cell_type": "code",
   "execution_count": 22,
   "metadata": {},
   "outputs": [
    {
     "name": "stdout",
     "output_type": "stream",
     "text": [
      "              precision    recall  f1-score   support\n",
      "\n",
      "       angry       0.58      0.55      0.57       777\n",
      "     disgust       0.84      0.72      0.78       111\n",
      "        fear       0.55      0.46      0.50       846\n",
      "       happy       0.81      0.88      0.84      1513\n",
      "         sad       0.51      0.57      0.54      1006\n",
      "    surprise       0.79      0.78      0.79       690\n",
      "     neutral       0.58      0.56      0.57       986\n",
      "\n",
      "    accuracy                           0.66      5929\n",
      "   macro avg       0.67      0.65      0.65      5929\n",
      "weighted avg       0.65      0.66      0.65      5929\n",
      "\n"
     ]
    }
   ],
   "source": [
    "# resnet18 full 64\n",
    "print(classification_report(y_true, y_pred, target_names=list(id2label.values())))"
   ]
  },
  {
   "cell_type": "code",
   "execution_count": null,
   "metadata": {},
   "outputs": [],
   "source": []
  }
 ],
 "metadata": {
  "interpreter": {
   "hash": "a855c4efa1bcffec0e0592d87e36d2dc47c870182d52bf8f025634bf46aad6f3"
  },
  "kernelspec": {
   "display_name": "Python 3.9.12 ('emo')",
   "language": "python",
   "name": "python3"
  },
  "language_info": {
   "codemirror_mode": {
    "name": "ipython",
    "version": 3
   },
   "file_extension": ".py",
   "mimetype": "text/x-python",
   "name": "python",
   "nbconvert_exporter": "python",
   "pygments_lexer": "ipython3",
   "version": "3.9.12"
  },
  "orig_nbformat": 4
 },
 "nbformat": 4,
 "nbformat_minor": 2
}
